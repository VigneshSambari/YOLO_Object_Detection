{
 "cells": [
  {
   "cell_type": "code",
   "execution_count": 1,
   "id": "d6615bd8",
   "metadata": {},
   "outputs": [
    {
     "ename": "SyntaxError",
     "evalue": "invalid syntax (3277417328.py, line 1)",
     "output_type": "error",
     "traceback": [
      "\u001b[1;36m  Cell \u001b[1;32mIn[1], line 1\u001b[1;36m\u001b[0m\n\u001b[1;33m    git init\u001b[0m\n\u001b[1;37m        ^\u001b[0m\n\u001b[1;31mSyntaxError\u001b[0m\u001b[1;31m:\u001b[0m invalid syntax\n"
     ]
    }
   ],
   "source": [
    "git init\n"
   ]
  },
  {
   "cell_type": "code",
   "execution_count": 2,
   "id": "c68417e9",
   "metadata": {},
   "outputs": [
    {
     "name": "stdout",
     "output_type": "stream",
     "text": [
      "Initialized empty Git repository in C:/Users/Vignesh/Desktop/yolo/predictions/.git/\n"
     ]
    }
   ],
   "source": [
    "!git init\n"
   ]
  },
  {
   "cell_type": "code",
   "execution_count": 3,
   "id": "558b6396",
   "metadata": {},
   "outputs": [
    {
     "name": "stderr",
     "output_type": "stream",
     "text": [
      "warning: LF will be replaced by CRLF in .ipynb_checkpoints/02_predictions-checkpoint.ipynb.\n",
      "The file will have its original line endings in your working directory\n",
      "warning: LF will be replaced by CRLF in .ipynb_checkpoints/Untitled-checkpoint.ipynb.\n",
      "The file will have its original line endings in your working directory\n",
      "warning: LF will be replaced by CRLF in .ipynb_checkpoints/prediction-checkpoint.ipynb.\n",
      "The file will have its original line endings in your working directory\n",
      "warning: LF will be replaced by CRLF in .ipynb_checkpoints/yolo_predictions-checkpoint.ipynb.\n",
      "The file will have its original line endings in your working directory\n",
      "warning: LF will be replaced by CRLF in Model/hyp.yaml.\n",
      "The file will have its original line endings in your working directory\n",
      "warning: LF will be replaced by CRLF in Model/opt.yaml.\n",
      "The file will have its original line endings in your working directory\n",
      "warning: LF will be replaced by CRLF in Model/results.csv.\n",
      "The file will have its original line endings in your working directory\n",
      "warning: LF will be replaced by CRLF in Untitled.ipynb.\n",
      "The file will have its original line endings in your working directory\n",
      "warning: LF will be replaced by CRLF in data.yaml.\n",
      "The file will have its original line endings in your working directory\n",
      "warning: LF will be replaced by CRLF in prediction.ipynb.\n",
      "The file will have its original line endings in your working directory\n",
      "warning: LF will be replaced by CRLF in yolo_predictions.ipynb.\n",
      "The file will have its original line endings in your working directory\n",
      "warning: LF will be replaced by CRLF in yolo_predictions.py.\n",
      "The file will have its original line endings in your working directory\n"
     ]
    }
   ],
   "source": [
    "!git add ."
   ]
  },
  {
   "cell_type": "code",
   "execution_count": 4,
   "id": "26b205d2",
   "metadata": {},
   "outputs": [
    {
     "name": "stdout",
     "output_type": "stream",
     "text": [
      "[master (root-commit) f6a084e] first commit\n",
      " 37 files changed, 1188 insertions(+)\n",
      " create mode 100644 .ipynb_checkpoints/02_predictions-checkpoint.ipynb\n",
      " create mode 100644 .ipynb_checkpoints/Untitled-checkpoint.ipynb\n",
      " create mode 100644 .ipynb_checkpoints/prediction-checkpoint.ipynb\n",
      " create mode 100644 .ipynb_checkpoints/yolo_predictions-checkpoint.ipynb\n",
      " create mode 100644 Model/F1_curve.png\n",
      " create mode 100644 Model/PR_curve.png\n",
      " create mode 100644 Model/P_curve.png\n",
      " create mode 100644 Model/R_curve.png\n",
      " create mode 100644 Model/confusion_matrix.png\n",
      " create mode 100644 Model/events.out.tfevents.1653206830.85a263edd123.417.0\n",
      " create mode 100644 Model/hyp.yaml\n",
      " create mode 100644 Model/labels.jpg\n",
      " create mode 100644 Model/labels_correlogram.jpg\n",
      " create mode 100644 Model/opt.yaml\n",
      " create mode 100644 Model/results.csv\n",
      " create mode 100644 Model/results.png\n",
      " create mode 100644 Model/train_batch0.jpg\n",
      " create mode 100644 Model/train_batch1.jpg\n",
      " create mode 100644 Model/train_batch2.jpg\n",
      " create mode 100644 Model/val_batch0_labels.jpg\n",
      " create mode 100644 Model/val_batch0_pred.jpg\n",
      " create mode 100644 Model/val_batch1_labels.jpg\n",
      " create mode 100644 Model/val_batch1_pred.jpg\n",
      " create mode 100644 Model/val_batch2_labels.jpg\n",
      " create mode 100644 Model/val_batch2_pred.jpg\n",
      " create mode 100644 Model/weights/best.onnx\n",
      " create mode 100644 Untitled.ipynb\n",
      " create mode 100644 __pycache__/yolo_predictions.cpython-311.pyc\n",
      " create mode 100644 __pycache__/yolo_predictions.cpython-39.pyc\n",
      " create mode 100644 data.yaml\n",
      " create mode 100644 prediction.ipynb\n",
      " create mode 100644 street_image.jpg\n",
      " create mode 100644 street_image_2.jpeg\n",
      " create mode 100644 video.mp4\n",
      " create mode 100644 yolo_pred_format.png\n",
      " create mode 100644 yolo_predictions.ipynb\n",
      " create mode 100644 yolo_predictions.py\n"
     ]
    }
   ],
   "source": [
    "!git commit -m \"first commit\""
   ]
  },
  {
   "cell_type": "code",
   "execution_count": 5,
   "id": "e2c2dba6",
   "metadata": {},
   "outputs": [],
   "source": [
    "!git branch -M main"
   ]
  },
  {
   "cell_type": "code",
   "execution_count": 6,
   "id": "1c46fb99",
   "metadata": {},
   "outputs": [],
   "source": [
    "!git remote add origin https://github.com/VigneshSambari/YOLO_Object_Detection.git\n"
   ]
  },
  {
   "cell_type": "code",
   "execution_count": 7,
   "id": "025ab449",
   "metadata": {},
   "outputs": [
    {
     "name": "stdout",
     "output_type": "stream",
     "text": [
      "Branch 'main' set up to track remote branch 'main' from 'origin'.\n"
     ]
    },
    {
     "name": "stderr",
     "output_type": "stream",
     "text": [
      "To https://github.com/VigneshSambari/YOLO_Object_Detection.git\n",
      " * [new branch]      main -> main\n"
     ]
    }
   ],
   "source": [
    "!git push -u origin main"
   ]
  },
  {
   "cell_type": "code",
   "execution_count": null,
   "id": "440d11b0",
   "metadata": {},
   "outputs": [],
   "source": []
  }
 ],
 "metadata": {
  "kernelspec": {
   "display_name": "Python 3 (ipykernel)",
   "language": "python",
   "name": "python3"
  },
  "language_info": {
   "codemirror_mode": {
    "name": "ipython",
    "version": 3
   },
   "file_extension": ".py",
   "mimetype": "text/x-python",
   "name": "python",
   "nbconvert_exporter": "python",
   "pygments_lexer": "ipython3",
   "version": "3.11.3"
  }
 },
 "nbformat": 4,
 "nbformat_minor": 5
}
