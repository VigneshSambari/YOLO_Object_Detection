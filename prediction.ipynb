{
 "cells": [
  {
   "cell_type": "markdown",
   "id": "f492c43b",
   "metadata": {},
   "source": [
    "<h3>Predict from saved images or video</h3>"
   ]
  },
  {
   "cell_type": "code",
   "execution_count": 1,
   "id": "e38aa7af",
   "metadata": {},
   "outputs": [],
   "source": [
    "import cv2\n",
    "from yolo_predictions import ObjectDetection"
   ]
  },
  {
   "cell_type": "code",
   "execution_count": 2,
   "id": "e7ccf027",
   "metadata": {},
   "outputs": [],
   "source": [
    "yolo = ObjectDetection('./Model/weights/best.onnx', 'data.yaml')"
   ]
  },
  {
   "cell_type": "markdown",
   "id": "6dab285e",
   "metadata": {},
   "source": [
    "<h3>Image Prediction</h3>"
   ]
  },
  {
   "cell_type": "code",
   "execution_count": 13,
   "id": "b3d96d48",
   "metadata": {},
   "outputs": [],
   "source": [
    "img1 = cv2.imread('./street_image.jpg')\n",
    "\n",
    "img_pred = yolo.predictions(img1)\n",
    "cv2.imshow('prediction', img_pred)\n",
    "cv2.waitKey(0)\n",
    "cv2.destroyAllWindows()\n",
    "    "
   ]
  },
  {
   "cell_type": "markdown",
   "id": "64041f10",
   "metadata": {},
   "source": [
    "<h3>Video Prediction</h3>"
   ]
  },
  {
   "cell_type": "code",
   "execution_count": 22,
   "id": "b30d1ec8",
   "metadata": {},
   "outputs": [],
   "source": [
    "cap = cv2.VideoCapture('video.mp4')\n",
    "\n",
    "while True:\n",
    "    ret, frame = cap.read()\n",
    "    if ret == False:\n",
    "        break\n",
    "    pred_image = yolo.predictions(frame)\n",
    "    \n",
    "    cv2.imshow('Obj_detection', pred_image)\n",
    "    if cv2.waitKey(1) == 27:\n",
    "        break\n",
    "\n",
    "cv2.destroyAllWindows()\n",
    "cap.release()"
   ]
  },
  {
   "cell_type": "code",
   "execution_count": null,
   "id": "48bffa8a",
   "metadata": {},
   "outputs": [],
   "source": []
  }
 ],
 "metadata": {
  "kernelspec": {
   "display_name": "Python 3 (ipykernel)",
   "language": "python",
   "name": "python3"
  },
  "language_info": {
   "codemirror_mode": {
    "name": "ipython",
    "version": 3
   },
   "file_extension": ".py",
   "mimetype": "text/x-python",
   "name": "python",
   "nbconvert_exporter": "python",
   "pygments_lexer": "ipython3",
   "version": "3.11.3"
  }
 },
 "nbformat": 4,
 "nbformat_minor": 5
}
