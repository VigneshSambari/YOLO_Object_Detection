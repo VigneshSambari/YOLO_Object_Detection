{
 "cells": [
  {
   "cell_type": "markdown",
   "id": "1361d42f",
   "metadata": {},
   "source": [
    "<h3>Load model data and predict</h3>"
   ]
  },
  {
   "cell_type": "code",
   "execution_count": 1,
   "id": "2b88a012",
   "metadata": {},
   "outputs": [],
   "source": [
    "import cv2\n",
    "import numpy as np\n",
    "import os\n",
    "import yaml\n",
    "from yaml.loader import SafeLoader"
   ]
  },
  {
   "cell_type": "code",
   "execution_count": 2,
   "id": "078b35cd",
   "metadata": {},
   "outputs": [],
   "source": [
    "#load YAML\n",
    "with open('data.yaml', mode='r') as f:\n",
    "    data_yaml = yaml.load(f, Loader=SafeLoader)\n",
    "\n",
    "labels = data_yaml['names']\n",
    "\n",
    "#load YOLO model\n",
    "yolo_model = cv2.dnn.readNetFromONNX('./Model/weights/best.onnx')\n",
    "yolo_model.setPreferableBackend(cv2.dnn.DNN_BACKEND_OPENCV)\n",
    "yolo_model.setPreferableTarget(cv2.dnn.DNN_TARGET_CPU)"
   ]
  },
  {
   "cell_type": "code",
   "execution_count": 3,
   "id": "87cd91c1",
   "metadata": {},
   "outputs": [],
   "source": [
    "#load image\n",
    "img = cv2.imread('./street_image.jpg')\n",
    "image = img.copy()\n",
    "row, col, d = image.shape\n",
    "\n",
    "#modify input \n",
    "max_rc = max(row, col)\n",
    "input_image = np.zeros((max_rc, max_rc, 3), dtype=np.uint8)\n",
    "input_image[0:row, 0:col] = image\n",
    "\n",
    "#predict from input using yolo model\n",
    "INPUT_WH_YOLO = 640\n",
    "blob = cv2.dnn.blobFromImage(input_image, 1/255, (INPUT_WH_YOLO, INPUT_WH_YOLO), swapRB = True, crop = False)\n",
    "yolo_model.setInput(blob)\n",
    "predictions = yolo_model.forward()\n",
    "\n",
    "cv2.imshow('image', input_image)\n",
    "cv2.waitKey(0)\n",
    "cv2.destroyAllWindows()"
   ]
  },
  {
   "cell_type": "code",
   "execution_count": 4,
   "id": "28d7fdf5",
   "metadata": {},
   "outputs": [
    {
     "data": {
      "text/plain": [
       "(1, 25200, 25)"
      ]
     },
     "execution_count": 4,
     "metadata": {},
     "output_type": "execute_result"
    }
   ],
   "source": [
    "predictions.shape"
   ]
  },
  {
   "cell_type": "markdown",
   "id": "d53b7c61",
   "metadata": {},
   "source": [
    "<img src=\"yolo_pred_format.png\" width=700 height=400>"
   ]
  },
  {
   "cell_type": "code",
   "execution_count": 5,
   "id": "8dce9a73",
   "metadata": {},
   "outputs": [],
   "source": [
    "# #Non max suppression\n",
    "# #filter those with confidence more than 0.4 and probability more than 0.25\n",
    "# conf_threshold = 0.4\n",
    "# prob_threshold = 0.25\n",
    "# detections = predictions[0]     \n",
    "\n",
    "# #width and height of image\n",
    "# image_w, image_h = input_image.shape[:2]\n",
    "# x_factor = image_w/INPUT_WH_YOLO\n",
    "# y_factor = image_h/INPUT_WH_YOLO\n",
    "\n",
    "# #filtering according to thresholds\n",
    "# detections = detections[detections[:, 4] > conf_threshold]\n",
    "# pred_cols = detections[:, 6:]\n",
    "# pred_col = np.max(pred_cols, axis=1, keepdims=True)\n",
    "# max_index = np.argmax(pred_cols, axis=1, keepdims=True)\n",
    "# detections = detections[:,0:6] + pred_col\n",
    "# detections = detections[detections[:, 5] > prob_threshold]\n",
    "\n",
    "# column_indices = [0, 1, 2, 3]  \n",
    "# cx, cy, w, h = np.hsplit(detections[:, column_indices], 4)\n",
    "\n",
    "# # bounding box values\n",
    "# # left, top, width and height\n",
    "# left = ((cx - 0.5*w)*x_factor).astype(int)\n",
    "# top = ((cy - 0.5*h)*y_factor).astype(int)\n",
    "# width = (w*x_factor).astype(int)\n",
    "# height = (h*y_factor).astype(int)\n",
    "\n",
    "# boxes = np.hstack((left, top, width, height))\n",
    "# confidences = np.array(np.hsplit(detections[:, 4], 1)).T\n",
    "# classes = max_index\n",
    "\n",
    "# #clean data\n",
    "# classes = classes.flatten().tolist()\n",
    "# boxes = boxes.tolist()\n",
    "# confidences = confidences.flatten().tolist()"
   ]
  },
  {
   "cell_type": "code",
   "execution_count": 6,
   "id": "54008bd3",
   "metadata": {},
   "outputs": [],
   "source": [
    "# #Draw boundart boxes\n",
    "# for idx in index:\n",
    "#     x, y, w, h = boxes[idx]\n",
    "#     bb_conf = int(confidences[idx]*100)\n",
    "#     class_id = classes[idx]\n",
    "#     class_name = labels[class_id]\n",
    "    \n",
    "#     text = f'{class_name}: {bb_conf}%'\n",
    "    \n",
    "#     cv2.rectangle(image, (x, y), (x+w, y+h), (0, 255, 0), 2)\n",
    "#     cv2.rectangle(image, (x, y-30), (x+w, y), (255, 255, 255), -1)\n",
    "    \n",
    "#     cv2.putText(image, text, (x, y-10), cv2.FONT_HERSHEY_PLAIN, 0.76, (0,0,0), 1)\n",
    "    "
   ]
  },
  {
   "cell_type": "code",
   "execution_count": 7,
   "id": "d2bf3c4f",
   "metadata": {},
   "outputs": [],
   "source": [
    "#Non max suppression\n",
    "# index = cv2.dnn.NMSBoxes(boxes, confidences, 0.25, 0.4)"
   ]
  },
  {
   "cell_type": "code",
   "execution_count": 8,
   "id": "ee7fefb8",
   "metadata": {},
   "outputs": [],
   "source": [
    "# Non Maximum Supression\n",
    "# step-1: filter detection based on confidence (0.4) and probability score (0.25)\n",
    "detections = predictions[0]\n",
    "boxes = []\n",
    "confidences = []\n",
    "classes = []\n",
    "\n",
    "# widht and height of the image (input_image)\n",
    "image_w, image_h = input_image.shape[:2]\n",
    "x_factor = image_w/INPUT_WH_YOLO\n",
    "y_factor = image_h/INPUT_WH_YOLO\n",
    "\n",
    "for i in range(len(detections)):\n",
    "    row = detections[i]\n",
    "    confidence = row[4] # confidence of detection an object\n",
    "    if confidence > 0.4:\n",
    "        class_score = row[5:].max() # maximum probability from 20 objects\n",
    "        class_id = row[5:].argmax() # get the index position at which max probabilty occur\n",
    "        \n",
    "        if class_score > 0.25:\n",
    "            cx, cy, w, h = row[0:4]\n",
    "            # construct bounding from four values\n",
    "            # left, top, width and height\n",
    "            left = int((cx - 0.5*w)*x_factor)\n",
    "            top = int((cy - 0.5*h)*y_factor)\n",
    "            width = int(w*x_factor)\n",
    "            height = int(h*y_factor)\n",
    "            \n",
    "            box = np.array([left,top,width,height])\n",
    "            \n",
    "            # append values into the list\n",
    "            confidences.append(confidence)\n",
    "            boxes.append(box)\n",
    "            classes.append(class_id)\n",
    "            \n",
    "# clean\n",
    "boxes_np = np.array(boxes).tolist()\n",
    "confidences_np = np.array(confidences).tolist()\n",
    "\n",
    "# NMS\n",
    "index = cv2.dnn.NMSBoxes(boxes_np,confidences_np,0.25,0.45).flatten()\n"
   ]
  },
  {
   "cell_type": "code",
   "execution_count": 9,
   "id": "2f32d098",
   "metadata": {},
   "outputs": [],
   "source": [
    "# Draw the Bounding\n",
    "for ind in index:\n",
    "    # extract bounding box\n",
    "    x,y,w,h = boxes_np[ind]\n",
    "    bb_conf = int(confidences_np[ind]*100)\n",
    "    classes_id = classes[ind]\n",
    "    class_name = labels[classes_id]\n",
    "    \n",
    "    text = f'{class_name}: {bb_conf}%'\n",
    "    \n",
    "    cv2.rectangle(image,(x,y),(x+w,y+h),(0,255,0),2)\n",
    "    cv2.rectangle(image,(x,y-30),(x+w,y),(255,255,255),-1)\n",
    "    \n",
    "    cv2.putText(image,text,(x,y-10),cv2.FONT_HERSHEY_PLAIN,0.7,(0,0,0),1)\n",
    "    \n"
   ]
  },
  {
   "cell_type": "code",
   "execution_count": 10,
   "id": "531fe6be",
   "metadata": {},
   "outputs": [],
   "source": [
    "cv2.imshow('original', img)\n",
    "cv2.imshow('yolo_prediction', image)\n",
    "cv2.waitKey(0)\n",
    "cv2.destroyAllWindows()"
   ]
  },
  {
   "cell_type": "code",
   "execution_count": null,
   "id": "3f39f3b0",
   "metadata": {},
   "outputs": [],
   "source": []
  }
 ],
 "metadata": {
  "kernelspec": {
   "display_name": "Python 3 (ipykernel)",
   "language": "python",
   "name": "python3"
  },
  "language_info": {
   "codemirror_mode": {
    "name": "ipython",
    "version": 3
   },
   "file_extension": ".py",
   "mimetype": "text/x-python",
   "name": "python",
   "nbconvert_exporter": "python",
   "pygments_lexer": "ipython3",
   "version": "3.11.3"
  }
 },
 "nbformat": 4,
 "nbformat_minor": 5
}
